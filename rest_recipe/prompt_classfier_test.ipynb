{
 "cells": [
  {
   "cell_type": "code",
   "execution_count": 5,
   "metadata": {},
   "outputs": [
    {
     "name": "stdout",
     "output_type": "stream",
     "text": [
      "WARNING:tensorflow:5 out of the last 5 calls to <function Model.make_predict_function.<locals>.predict_function at 0x35cf92ee0> triggered tf.function retracing. Tracing is expensive and the excessive number of tracings could be due to (1) creating @tf.function repeatedly in a loop, (2) passing tensors with different shapes, (3) passing Python objects instead of tensors. For (1), please define your @tf.function outside of the loop. For (2), @tf.function has reduce_retracing=True option that can avoid unnecessary retracing. For (3), please refer to https://www.tensorflow.org/guide/function#controlling_retracing and https://www.tensorflow.org/api_docs/python/tf/function for  more details.\n",
      "1/1 [==============================] - 0s 147ms/step\n",
      "Predicted Label: general\n"
     ]
    }
   ],
   "source": [
    "import pickle\n",
    "import numpy as np\n",
    "import tensorflow as tf\n",
    "from keras.preprocessing.sequence import pad_sequences\n",
    "from tensorflow.keras.models import load_model\n",
    "\n",
    "def load_resources(model_path, tokenizer_path, label_encoder_path):\n",
    "    # Load the trained model\n",
    "    model = load_model(model_path)\n",
    "    \n",
    "    # Load the tokenizer\n",
    "    with open(tokenizer_path, 'rb') as handle:\n",
    "        tokenizer = pickle.load(handle)\n",
    "        \n",
    "    # Load the label encoder\n",
    "    with open(label_encoder_path, 'rb') as handle:\n",
    "        label_encoder = pickle.load(handle)\n",
    "        \n",
    "    return model, tokenizer, label_encoder\n",
    "\n",
    "def preprocess_input(text, tokenizer, max_len=128):\n",
    "    # Tokenize and pad sequences\n",
    "    sequence = tokenizer.texts_to_sequences([text])\n",
    "    padded_sequence = pad_sequences(sequence, maxlen=max_len, padding='post')\n",
    "    return padded_sequence\n",
    "\n",
    "def predict(text, model, tokenizer, label_encoder, max_len):\n",
    "    # Preprocess the text\n",
    "    X = preprocess_input(text, tokenizer, max_len)\n",
    "    \n",
    "    # Make prediction\n",
    "    prediction = model.predict(X)\n",
    "    predicted_class = label_encoder.inverse_transform([np.argmax(prediction)])\n",
    "    \n",
    "    return predicted_class[0]\n",
    "\n",
    "if __name__ == \"__main__\":\n",
    "    # Paths to the resources\n",
    "    model_path = 'model_weights.h5'\n",
    "    tokenizer_path = 'tokenizer.pickle'\n",
    "    label_encoder_path = 'label_encoder.pickle'\n",
    "\n",
    "    # Load resources\n",
    "    model, tokenizer, label_encoder = load_resources(model_path, tokenizer_path, label_encoder_path)\n",
    "    \n",
    "    # Maximum length of sequences used during training\n",
    "    max_len = 279  # per the training\n",
    "    \n",
    "    # Input text\n",
    "    input_text = \"2 + 2\"\n",
    "    \n",
    "    # Prediction\n",
    "    predicted_label = predict(input_text, model, tokenizer, label_encoder, max_len)\n",
    "    print(f\"Predicted Label: {predicted_label}\")\n",
    "\n"
   ]
  },
  {
   "cell_type": "markdown",
   "metadata": {},
   "source": [
    "**  Test Code for prompt classifier"
   ]
  }
 ],
 "metadata": {
  "kernelspec": {
   "display_name": "Python 3",
   "language": "python",
   "name": "python3"
  },
  "language_info": {
   "codemirror_mode": {
    "name": "ipython",
    "version": 3
   },
   "file_extension": ".py",
   "mimetype": "text/x-python",
   "name": "python",
   "nbconvert_exporter": "python",
   "pygments_lexer": "ipython3",
   "version": "3.9.6"
  }
 },
 "nbformat": 4,
 "nbformat_minor": 2
}
